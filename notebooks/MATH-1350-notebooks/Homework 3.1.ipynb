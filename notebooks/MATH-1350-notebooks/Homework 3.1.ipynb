{
 "cells": [
  {
   "cell_type": "code",
   "execution_count": 15,
   "metadata": {
    "pycharm": {
     "name": "#%%\n"
    }
   },
   "outputs": [],
   "source": [
    "import pandas as pd\n",
    "import numpy as np\n",
    "\n",
    "from statistics import (\n",
    "    median,\n",
    "    mode,\n",
    ")\n",
    "\n",
    "def get_mean(list, round_to=1):\n",
    "    return round(sum(list) / len(list), round_to)\n",
    "\n",
    "def get_median(list):\n",
    "    return median(list)\n",
    "\n",
    "def get_mode(list):\n",
    "    return mode(list)\n",
    "\n",
    "def get_midrange(list, round_to=1):\n",
    "    list.sort()\n",
    "    return round((list[0] + list[len(list) - 1]) / 2, round_to)\n",
    "\n",
    "def print_middle_values(list, round_to=1):\n",
    "    print(f'mean: {get_mean(list, round_to)}')\n",
    "    print(f'median: {get_median(list)}')\n",
    "    print(f'midrange: {get_midrange(list, round_to)}')\n",
    "    print(f'mode: {get_mode(list)}')"
   ]
  },
  {
   "cell_type": "code",
   "execution_count": 55,
   "metadata": {
    "pycharm": {
     "name": "#%%\n"
    }
   },
   "outputs": [
    {
     "name": "stdout",
     "output_type": "stream",
     "text": [
      "10\n"
     ]
    }
   ],
   "source": [
    "\n",
    "\n",
    "psMale = [eval(i) for i in '86 72 64 72 72 54 66 56 80 72 64 64 96 58 66'.split(' ')]\n",
    "psFemale = [eval(i) for i in '64 84 82 70 74 86 90 88 90 90 94 68 90 82 80'.split(' ')]\n",
    "\n",
    "print(f'Male Mean: {get_mean(psMale)}')\n",
    "print(f'Male Median: {get_median(psMale)}')\n",
    "print(f'Male Midrange: {get_midrange(psMale)}')\n",
    "print(f'Male Mode: {get_mode(psMale)}')\n",
    "print()\n",
    "print(f'Female Mean: {get_mean(psFemale)}')\n",
    "print(f'Female Median: {get_median(psFemale)}')\n",
    "print(f'Female Midrange: {get_midrange(psFemale)}')\n",
    "print(f'Female Mode: {get_mode(psFemale)}')\n"
   ]
  },
  {
   "cell_type": "code",
   "execution_count": 61,
   "metadata": {
    "pycharm": {
     "name": "#%%\n"
    }
   },
   "outputs": [
    {
     "name": "stdout",
     "output_type": "stream",
     "text": [
      "low: 300\n",
      "high: 4900\n",
      "mean: 3152.0\n",
      "median: 3300.0\n",
      "mode: 3300\n",
      "midrange: 2600.0\n"
     ]
    }
   ],
   "source": [
    "df = pd.read_csv('../../Book Data Sets/22 - Tornadoes.txt', sep='\\t')\n",
    "\n",
    "missing_f_scale_count = 0\n",
    "for index, row in df.iterrows():\n",
    "    if np.isnan(row['F SCALE']):\n",
    "        missing_f_scale_count += 1\n",
    "\n",
    "print(missing_f_scale_count)"
   ]
  },
  {
   "cell_type": "code",
   "execution_count": 2,
   "metadata": {
    "pycharm": {
     "is_executing": true,
     "name": "#%%\n"
    }
   },
   "outputs": [
    {
     "name": "stdout",
     "output_type": "stream",
     "text": [
      "low: 300\n",
      "high: 4900\n",
      "mean: 3152.0\n",
      "median: 3300.0\n",
      "mode: 3300\n",
      "midrange: 2600.0\n"
     ]
    }
   ],
   "source": [
    "df = pd.read_csv('../../Book Data Sets/04 - Births.txt', sep='\\t')\n",
    "weights = df['BIRTH WEIGHT'].tolist()\n",
    "weights.sort()\n",
    "\n",
    "print(f'low: {weights[0]}')\n",
    "print(f'high: {weights[len(weights) - 1]}')\n",
    "print(f'mean: {get_mean(weights)}')\n",
    "print(f'median: {get_median(weights)}')\n",
    "print(f'mode: {get_mode(weights)}')\n",
    "print(f'midrange: {get_midrange(weights)}')\n"
   ]
  },
  {
   "cell_type": "code",
   "execution_count": 3,
   "metadata": {
    "pycharm": {
     "name": "#%%\n"
    }
   },
   "outputs": [
    {
     "name": "stdout",
     "output_type": "stream",
     "text": [
      "mean: 57.09\n",
      "median: 60\n",
      "mode: 89\n",
      "midrange: 53.0\n"
     ]
    }
   ],
   "source": [
    "jerseyNumbers = [eval(i) for i in '89 91 55 7 20 99 25 81 19 82 60'.split(' ')]\n",
    "# print_middle_values(jerseyNumbers)\n",
    "print(f'mean: {get_mean(jerseyNumbers)}')\n",
    "print(f'median: {get_median(jerseyNumbers)}')\n",
    "print(f'mode: {get_mode(jerseyNumbers)}')\n",
    "print(f'midrange: {get_midrange(jerseyNumbers)}')\n"
   ]
  },
  {
   "cell_type": "code",
   "execution_count": 4,
   "metadata": {
    "pycharm": {
     "is_executing": true,
     "name": "#%%\n"
    }
   },
   "outputs": [
    {
     "name": "stdout",
     "output_type": "stream",
     "text": [
      "mean: 231.09\n",
      "median: 225\n",
      "mode: 190\n",
      "midrange: 247.0\n"
     ]
    }
   ],
   "source": [
    "playerWeights = [eval(i) for i in '189 254 235 225 190 305 195 202 190 252 305'.split(' ')]\n",
    "\n",
    "print(f'mean: {get_mean(playerWeights)}')\n",
    "print(f'median: {get_median(playerWeights)}')\n",
    "print(f'mode: {get_mode(playerWeights)}')\n",
    "print(f'midrange: {get_midrange(playerWeights)}')\n"
   ]
  },
  {
   "cell_type": "code",
   "execution_count": 5,
   "metadata": {
    "pycharm": {
     "is_executing": true,
     "name": "#%%\n"
    }
   },
   "outputs": [
    {
     "name": "stdout",
     "output_type": "stream",
     "text": [
      "mean: 1.88\n",
      "median: 2\n",
      "midrange: 2.5\n",
      "mode: 1\n"
     ]
    }
   ],
   "source": [
    "\n",
    "peas = [eval(i) for i in '2 1 1 1 1 1 1 4 1 2 2 1 2 3 3 2 3 1 3 1 3 1 3 2 2'.split(' ')]\n",
    "\n",
    "print(f'mean: {get_mean(peas)}')\n",
    "print(f'median: {get_median(peas)}')\n",
    "print(f'midrange: {get_midrange(peas)}')\n",
    "print(f'mode: {get_mode(peas)}')\n"
   ]
  },
  {
   "cell_type": "code",
   "execution_count": 6,
   "metadata": {
    "pycharm": {
     "is_executing": true,
     "name": "#%%\n"
    }
   },
   "outputs": [
    {
     "name": "stdout",
     "output_type": "stream",
     "text": [
      "mean: 32.55\n",
      "median: 39.5\n",
      "midrange: 27.5\n",
      "mode: 0\n"
     ]
    }
   ],
   "source": [
    "\n",
    "cans = [eval(i) for i in '0  0  34  34  34  45  41  51  55  36  47  41  0  0  53  54  38  0  41  47'.split('  ')]\n",
    "\n",
    "print(f'mean: {get_mean(cans)}')\n",
    "print(f'median: {get_median(cans)}')\n",
    "print(f'midrange: {get_midrange(cans)}')\n",
    "print(f'mode: {get_mode(cans)}')\n"
   ]
  },
  {
   "cell_type": "code",
   "execution_count": 16,
   "metadata": {
    "pycharm": {
     "name": "#%%\n"
    }
   },
   "outputs": [
    {
     "name": "stdout",
     "output_type": "stream",
     "text": [
      "mean: 1.8\n",
      "median: 1.3\n",
      "midrange: 3.2\n",
      "mode: 1.4\n"
     ]
    }
   ],
   "source": [
    "lps = [eval(i) for i in '0.3 0.6 0.8 1.1 1.1 1.4 1.4 1.5 1.2 1.3 1.4 1.2 0.9 0.9 1 1.9 2.5 2.8 3.9 4.6 6.1'.split(' ')]\n",
    "\n",
    "print_middle_values(lps, 2)\n",
    "\n",
    "# print(f'mean: {get_mean(lps)}')\n",
    "# print(f'median: {get_median(lps)}')\n",
    "# print(f'midrange: {get_midrange(lps)}')\n",
    "# print(f'mode: {get_mode(lps)}')\n"
   ]
  },
  {
   "cell_type": "code",
   "execution_count": null,
   "metadata": {
    "pycharm": {
     "name": "#%%\n"
    }
   },
   "outputs": [],
   "source": []
  }
 ],
 "metadata": {
  "kernelspec": {
   "display_name": ".venv",
   "language": "python",
   "name": ".venv"
  },
  "language_info": {
   "codemirror_mode": {
    "name": "ipython",
    "version": 3
   },
   "file_extension": ".py",
   "mimetype": "text/x-python",
   "name": "python",
   "nbconvert_exporter": "python",
   "pygments_lexer": "ipython3",
   "version": "3.10.0"
  }
 },
 "nbformat": 4,
 "nbformat_minor": 1
}