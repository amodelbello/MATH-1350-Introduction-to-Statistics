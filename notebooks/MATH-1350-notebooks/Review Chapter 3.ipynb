{
 "cells": [
  {
   "cell_type": "code",
   "execution_count": 44,
   "outputs": [],
   "source": [
    "import numpy as np\n",
    "from scipy import (\n",
    "    stats as st,\n",
    ")\n",
    "from statistics import (\n",
    "    variance,\n",
    "    stdev,\n",
    ")\n",
    "from matplotlib import (\n",
    "    pyplot as plt\n",
    ")"
   ],
   "metadata": {
    "collapsed": false,
    "pycharm": {
     "name": "#%%\n"
    }
   }
  },
  {
   "cell_type": "code",
   "execution_count": 24,
   "outputs": [
    {
     "name": "stdout",
     "output_type": "stream",
     "text": [
      "standard deviation: 0.7689895968086955\n",
      "variance: 0.591345\n",
      "max: 1.13\n",
      "min: 7\n",
      "range: 5.87\n",
      "mean: 2.5581818181818177\n",
      "median: 2.46\n",
      "mode: ModeResult(mode=array([2.46]), count=array([4]))\n",
      "midrange: 4.0649999999999995\n"
     ]
    },
    {
     "name": "stderr",
     "output_type": "stream",
     "text": [
      "/var/folders/_p/nvjvl2j571s5l4pvj9xtjcs00000gp/T/ipykernel_13976/120927873.py:133: FutureWarning: Unlike other reduction functions (e.g. `skew`, `kurtosis`), the default behavior of `mode` typically preserves the axis it acts along. In SciPy 1.11.0, this behavior will change: the default value of `keepdims` will become False, the `axis` over which the statistic is taken will be eliminated, and the value None will no longer be accepted. Set `keepdims` to True or False to avoid this warning.\n",
      "  mode = st.mode(data)\n"
     ]
    }
   ],
   "source": [
    "data = [\n",
    "    3.33,\n",
    "        2.46,\n",
    "        2.58,\n",
    "        2.46,\n",
    "        2.79,\n",
    "        2.39,\n",
    "        2.20,\n",
    "        2.42,\n",
    "        1.90,\n",
    "        1.44,\n",
    "        2.85,\n",
    "        1.74,\n",
    "        1.99,\n",
    "        2.34,\n",
    "        2.32,\n",
    "        2.70,\n",
    "        4.68,\n",
    "        2.86,\n",
    "        3.37,\n",
    "        2.71,\n",
    "        2.79,\n",
    "        3.45,\n",
    "        3.99,\n",
    "        3.00,\n",
    "        3.87,\n",
    "        3.46,\n",
    "        3.09,\n",
    "        2.92,\n",
    "        2.68,\n",
    "        3.64,\n",
    "        2.86,\n",
    "        2.36,\n",
    "        3.03,\n",
    "        3.18,\n",
    "        2.58,\n",
    "        3.64,\n",
    "        3.22,\n",
    "        2.65,\n",
    "        2.36,\n",
    "        2.44,\n",
    "        2.81,\n",
    "        3.96,\n",
    "        2.50,\n",
    "        2.92,\n",
    "        2.95,\n",
    "        3.42,\n",
    "        2.29,\n",
    "        2.57,\n",
    "        2.90,\n",
    "        3.15,\n",
    "        2.20,\n",
    "        1.13,\n",
    "        1.93,\n",
    "        4.01,\n",
    "        2.54,\n",
    "        2.80,\n",
    "        2.36,\n",
    "        2.31,\n",
    "        1.50,\n",
    "        2.83,\n",
    "        1.97,\n",
    "        1.61,\n",
    "        2.46,\n",
    "        2.35,\n",
    "        2.06,\n",
    "        1.54,\n",
    "        3.25,\n",
    "        1.49,\n",
    "        1.80,\n",
    "        2.58,\n",
    "        1.68,\n",
    "        2.34,\n",
    "        2.42,\n",
    "        2.07,\n",
    "        2.19,\n",
    "        2.77,\n",
    "        2.01,\n",
    "        2.84,\n",
    "        2.43,\n",
    "        2.65,\n",
    "        1.69,\n",
    "        2.86,\n",
    "        1.84,\n",
    "        1.99,\n",
    "        1.83,\n",
    "        2.53,\n",
    "        1.99,\n",
    "        2.15,\n",
    "        3.68,\n",
    "        1.52,\n",
    "        3.19,\n",
    "        2.48,\n",
    "        1.88,\n",
    "        1.50,\n",
    "        2.80,\n",
    "        3.28,\n",
    "        3.89,\n",
    "        2.80,\n",
    "        2.45,\n",
    "        2.70,\n",
    "        2.52,\n",
    "        1.62,\n",
    "        2.17,\n",
    "        3.04,\n",
    "        2.35,\n",
    "        1.49,\n",
    "        1.93,\n",
    "        2.33,\n",
    "        2.67,\n",
    "        1.42,\n",
    "        1.39,\n",
    "        1.79,\n",
    "        2.24,\n",
    "        2.28,\n",
    "        2.46,\n",
    "        1.76,\n",
    "        2.38,\n",
    "        2.42,\n",
    "        2.47,\n",
    "        2.43,\n",
    "        7,\n",
    "]\n",
    "data.sort()\n",
    "\n",
    "ar = np.array(data)\n",
    "sd = ar.std()\n",
    "print(f'standard deviation: {stdev(data)}')\n",
    "print(f'variance: {variance(data)}')\n",
    "\n",
    "mean = np.mean(data)\n",
    "median = np.median(data)\n",
    "mode = st.mode(data)\n",
    "midrange = (data[0] + data[-1]) / 2\n",
    "print(f'max: {data[0]}')\n",
    "print(f'min: {data[-1]}')\n",
    "print(f'range: {data[-1] - data[0]}')\n",
    "print(f'mean: {mean}')\n",
    "print(f'median: {median}')\n",
    "print(f'mode: {mode}')\n",
    "print(f'midrange: {midrange}')\n"
   ],
   "metadata": {
    "collapsed": false,
    "pycharm": {
     "name": "#%%\n"
    }
   }
  },
  {
   "cell_type": "code",
   "execution_count": 26,
   "outputs": [
    {
     "name": "stdout",
     "output_type": "stream",
     "text": [
      "diff 61.45\n",
      "num_sds 1.813754427390791\n"
     ]
    }
   ],
   "source": [
    "high = 77.9\n",
    "mean = 16.45\n",
    "s = 33.88\n",
    "\n",
    "diff = high - mean\n",
    "print(f'diff {diff}')\n",
    "\n",
    "num_sds = diff / s\n",
    "print(f'num_sds {num_sds}')\n"
   ],
   "metadata": {
    "collapsed": false,
    "pycharm": {
     "name": "#%%\n"
    }
   }
  },
  {
   "cell_type": "code",
   "execution_count": 30,
   "outputs": [
    {
     "name": "stdout",
     "output_type": "stream",
     "text": [
      "sig_diff 9.8\n",
      "sig_low 12.5\n",
      "sig_high 32.1\n"
     ]
    }
   ],
   "source": [
    "mean = 22.3\n",
    "s = 4.9\n",
    "\n",
    "# 2 * s + mean = x\n",
    "sig_diff = (2 * s) # + mean\n",
    "print(f'sig_diff {sig_diff}')\n",
    "print(f'sig_low {mean - sig_diff}')\n",
    "print(f'sig_high {mean + sig_diff}')\n"
   ],
   "metadata": {
    "collapsed": false,
    "pycharm": {
     "name": "#%%\n"
    }
   }
  },
  {
   "cell_type": "code",
   "execution_count": 31,
   "outputs": [
    {
     "name": "stdout",
     "output_type": "stream",
     "text": [
      "z_highest 8.905219780219781\n",
      "z_lowest -16.877747252747252\n"
     ]
    }
   ],
   "source": [
    "highest = 237\n",
    "lowest = 49.3\n",
    "mean = 172.17\n",
    "s = 7.28\n",
    "\n",
    "z_highest = (highest - mean) / s\n",
    "z_lowest = (lowest - mean) / s\n",
    "\n",
    "print(f'z_highest {z_highest}')\n",
    "print(f'z_lowest {z_lowest}')\n"
   ],
   "metadata": {
    "collapsed": false,
    "pycharm": {
     "name": "#%%\n"
    }
   }
  },
  {
   "cell_type": "code",
   "execution_count": 32,
   "outputs": [
    {
     "name": "stdout",
     "output_type": "stream",
     "text": [
      "z_actor -1.5423728813559323\n",
      "z_actress 1.0952380952380951\n"
     ]
    }
   ],
   "source": [
    "actor_age = 38\n",
    "actor_mean = 47.1\n",
    "actor_s = 5.9\n",
    "z_actor = (actor_age - actor_mean) / actor_s\n",
    "\n",
    "actress_age = 46\n",
    "actress_mean = 32.2\n",
    "actress_s = 12.6\n",
    "z_actress = (actress_age - actress_mean) / actress_s\n",
    "\n",
    "print(f'z_actor {z_actor}')\n",
    "print(f'z_actress {z_actress}')\n"
   ],
   "metadata": {
    "collapsed": false,
    "pycharm": {
     "name": "#%%\n"
    }
   }
  },
  {
   "cell_type": "code",
   "execution_count": 43,
   "outputs": [
    {
     "name": "stdout",
     "output_type": "stream",
     "text": [
      "p_20 0.74\n",
      "p 0.0\n",
      "boxplot 5: 0.52 0.79 1.08 1.295 1.45\n"
     ]
    }
   ],
   "source": [
    "data = [\n",
    "    1.18,\n",
    "    1.08,\n",
    "    1.06,\n",
    "    0.61,\n",
    "    1.21,\n",
    "    1.39,\n",
    "    0.74,\n",
    "    0.84,\n",
    "    1.45,\n",
    "    0.52,\n",
    "    1.38,\n",
    "]\n",
    "\n",
    "data.sort()\n",
    "\n",
    "to_find = .9\n",
    "found = 0\n",
    "for k, v in enumerate(data):\n",
    "    if (v == to_find):\n",
    "        found = k\n",
    "        print(f'this is k {k}')\n",
    "        break\n",
    "\n",
    "[m_q1, m_q2, m_q3] = np.percentile(data, [25, 50, 75])\n",
    "\n",
    "p_20 = np.percentile(data, 20)\n",
    "print(f'p_20 {p_20}')\n",
    "\n",
    "p = (found / 50) * 100\n",
    "print(f'p {p}')\n",
    "\n",
    "print(f'boxplot 5: {data[0]} {m_q1} {m_q2} {m_q3} {data[-1]}')"
   ],
   "metadata": {
    "collapsed": false,
    "pycharm": {
     "name": "#%%\n"
    }
   }
  },
  {
   "cell_type": "code",
   "execution_count": 46,
   "outputs": [
    {
     "name": "stdout",
     "output_type": "stream",
     "text": [
      "mean: 1.0418181818181815\n"
     ]
    },
    {
     "data": {
      "text/plain": "<Figure size 640x480 with 1 Axes>",
      "image/png": "[encoded data removed]"
     },
     "metadata": {},
     "output_type": "display_data"
    }
   ],
   "source": [
    "data = [\n",
    "    1.18,\n",
    "    1.08,\n",
    "    1.06,\n",
    "    0.61,\n",
    "    1.21,\n",
    "    1.39,\n",
    "    0.74,\n",
    "    0.84,\n",
    "    1.45,\n",
    "    0.52,\n",
    "    1.38,\n",
    "]\n",
    "\n",
    "print(f'mean: {np.mean(data)}')\n",
    "# fig, ax = plt.subplots()\n",
    "# plt.hist(,)\n",
    "plt.title('Cell Phone Radiation')\n",
    "plt.ylabel('')\n",
    "plt.xlabel('W / kg')\n",
    "# plt.grid(True)\n",
    "# plt.boxplot([0.51, 0.89, 1.38, 1.45, 1.49], positions=[1], labels=[''], vert=False)\n",
    "plt.boxplot(data, positions=[1], labels=[''], vert=False)\n",
    "# plt.boxplot([0.51, 0.89, 1.38, 1.45, 1.49], positions=[2])\n",
    "plt.show()\n"
   ],
   "metadata": {
    "collapsed": false,
    "pycharm": {
     "name": "#%%\n"
    }
   }
  },
  {
   "cell_type": "code",
   "execution_count": 47,
   "outputs": [
    {
     "data": {
      "text/plain": "<Figure size 640x480 with 1 Axes>",
      "image/png": "[encoded data removed]"
     },
     "metadata": {},
     "output_type": "display_data"
    }
   ],
   "source": [
    "men = [\n",
    "62,\n",
    "62,\n",
    "72,\n",
    "68,\n",
    "58,\n",
    "90,\n",
    "82,\n",
    "77,\n",
    "79,\n",
    "75,\n",
    "86,\n",
    "55,\n",
    "92,\n",
    "67,\n",
    "67,\n",
    "55,\n",
    "79,\n",
    "61,\n",
    "72,\n",
    "78,\n",
    "51,\n",
    "58,\n",
    "68,\n",
    "64,\n",
    "65,\n",
    "46,\n",
    "67,\n",
    "59,\n",
    "69,\n",
    "58,\n",
    "65,\n",
    "80,\n",
    "67,\n",
    "60,\n",
    "72,\n",
    "74,\n",
    "75,\n",
    "63,\n",
    "52,\n",
    "57,\n",
    "]\n",
    "women = [\n",
    "    78,\n",
    "    66,\n",
    "    68,\n",
    "    73,\n",
    "    80,\n",
    "    80,\n",
    "    98,\n",
    "    70,\n",
    "    65,\n",
    "    78,\n",
    "    70,\n",
    "    56,\n",
    "    76,\n",
    "    79,\n",
    "    79,\n",
    "    92,\n",
    "    97,\n",
    "    59,\n",
    "    99,\n",
    "    101,\n",
    "    77,\n",
    "    66,\n",
    "    84,\n",
    "    64,\n",
    "    73,\n",
    "    78,\n",
    "    74,\n",
    "    92,\n",
    "    91,\n",
    "    72,\n",
    "    81,\n",
    "    70,\n",
    "    76,\n",
    "    104,\n",
    "    61,\n",
    "    72,\n",
    "    70,\n",
    "    87,\n",
    "    72,\n",
    "    80,\n",
    "]\n",
    "\n",
    "plt.title('Pulse Rates')\n",
    "plt.ylabel('')\n",
    "plt.xlabel('BPM')\n",
    "# plt.grid(True)\n",
    "plt.boxplot(men, positions=[1], labels=['Males'], vert=False)\n",
    "plt.boxplot(women, positions=[2], labels=['Females'], vert=False)\n",
    "plt.show()\n"
   ],
   "metadata": {
    "collapsed": false,
    "pycharm": {
     "name": "#%%\n"
    }
   }
  },
  {
   "cell_type": "code",
   "execution_count": 50,
   "outputs": [
    {
     "name": "stdout",
     "output_type": "stream",
     "text": [
      "450.4\n"
     ]
    }
   ],
   "source": [
    "test = (516 + 608 + 356 + 352 + 496 + 349 + 350 + 525 + 470 + 482) / 8\n",
    "\n",
    "test = (516 + 349 + 608 + 350 + 356 + 525 + 352 + 470 + 496 + 482) / 10\n",
    "print(test)\n",
    "\n"
   ],
   "metadata": {
    "collapsed": false,
    "pycharm": {
     "name": "#%%\n"
    }
   }
  },
  {
   "cell_type": "code",
   "execution_count": 51,
   "outputs": [
    {
     "name": "stdout",
     "output_type": "stream",
     "text": [
      "[25, 25, 31, 53, 64, 73, 83]\n",
      "53.0\n"
     ]
    }
   ],
   "source": [
    "arr = [25, 25, 31, 53, 64, 73, 83]\n",
    "arr.sort()\n",
    "print(arr)\n",
    "print(np.median(arr))\n"
   ],
   "metadata": {
    "collapsed": false,
    "pycharm": {
     "name": "#%%\n"
    }
   }
  },
  {
   "cell_type": "code",
   "execution_count": 52,
   "outputs": [
    {
     "name": "stdout",
     "output_type": "stream",
     "text": [
      "[4.5, 4.5, 5.0, 5.0, 5.0, 5.8, 6.0, 6.2, 6.2, 6.2, 6.3, 6.5, 6.5, 6.6]\n"
     ]
    }
   ],
   "source": [
    "arr = [5.0, 6.5, 6.0, 6.2, 6.6, 5.0, 6.5, 4.5, 5.8, 6.2, 5.0, 4.5, 6.2, 6.3]\n",
    "\n",
    "arr.sort()\n",
    "print(arr)\n"
   ],
   "metadata": {
    "collapsed": false,
    "pycharm": {
     "name": "#%%\n"
    }
   }
  },
  {
   "cell_type": "code",
   "execution_count": 53,
   "outputs": [
    {
     "name": "stdout",
     "output_type": "stream",
     "text": [
      "[1.5, 2.1, 3.5, 4.8, 5.6, 6.1]\n",
      "4.6\n"
     ]
    }
   ],
   "source": [
    "arr = [2.1, 5.6, 1.5, 4.8, 6.1, 3.5]\n",
    "arr.sort()\n",
    "print(arr)\n",
    "print(arr[-1] - arr[0])\n"
   ],
   "metadata": {
    "collapsed": false,
    "pycharm": {
     "name": "#%%\n"
    }
   }
  },
  {
   "cell_type": "code",
   "execution_count": 63,
   "outputs": [
    {
     "data": {
      "text/plain": "<Figure size 640x480 with 1 Axes>",
      "image/png": "[encoded data removed]"
     },
     "metadata": {},
     "output_type": "display_data"
    },
    {
     "name": "stdout",
     "output_type": "stream",
     "text": [
      "wtf?? 978.75\n",
      "wtf?? 705.0\n",
      "[ 515.   705.  1212.5]\n"
     ]
    }
   ],
   "source": [
    "salaries = [\n",
    "310,\n",
    "320,\n",
    "450,\n",
    "460,\n",
    "470,\n",
    "500,\n",
    "520,\n",
    "540,\n",
    "580,\n",
    "600,\n",
    "650,\n",
    "700,\n",
    "710,\n",
    "840,\n",
    "870,\n",
    "900,\n",
    "1000,\n",
    "1200,\n",
    "1250,\n",
    "1300,\n",
    "1400,\n",
    "1720,\n",
    "2500,\n",
    "3700,\n",
    "]\n",
    "plt.title('Weekly Salaries')\n",
    "plt.ylabel('')\n",
    "plt.xlabel('Dollars')\n",
    "plt.boxplot(salaries, positions=[1], labels=[''], vert=False)\n",
    "plt.savefig('../../Tests/Chapter-01-03-In-Class-Exam/assets/weekly-salaries.png')\n",
    "plt.show()\n",
    "\n",
    "print(f'wtf?? {sum(salaries) / 24}')\n",
    "print(f'wtf?? {np.median(salaries)}')\n",
    "quartiles = np.percentile(salaries, [25, 50, 75])\n",
    "print(quartiles)"
   ],
   "metadata": {
    "collapsed": false,
    "pycharm": {
     "name": "#%%\n"
    }
   }
  },
  {
   "cell_type": "code",
   "execution_count": 57,
   "outputs": [
    {
     "name": "stdout",
     "output_type": "stream",
     "text": [
      "6.0\n",
      "510.0\n"
     ]
    }
   ],
   "source": [
    "n = 24\n",
    "k = 25\n",
    "\n",
    "l = (k / 100) * n\n",
    "print(l)\n",
    "\n",
    "value = (500 + 520) /2\n",
    "print(value)"
   ],
   "metadata": {
    "collapsed": false,
    "pycharm": {
     "name": "#%%\n"
    }
   }
  },
  {
   "cell_type": "code",
   "execution_count": 68,
   "outputs": [
    {
     "data": {
      "text/plain": "<Figure size 640x480 with 1 Axes>",
      "image/png": "[encoded data removed]"
     },
     "metadata": {},
     "output_type": "display_data"
    }
   ],
   "source": [
    "x = [-1, -4, -3, -3, -7, 4, 2, 9, -4, 2]\n",
    "y = [-3, -6, -4, -9, 3, 1, 1, 1, -6, -3]\n",
    "\n",
    "\n",
    "plt.title('')\n",
    "plt.ylabel('')\n",
    "plt.xlabel('')\n",
    "plt.grid(True)\n",
    "plt.scatter(x, y)\n",
    "plt.savefig('../../Tests/Chapter-01-03-In-Class-Exam/assets/scatter-plot.png')\n",
    "plt.show()\n"
   ],
   "metadata": {
    "collapsed": false,
    "pycharm": {
     "name": "#%%\n"
    }
   }
  },
  {
   "cell_type": "code",
   "execution_count": 71,
   "outputs": [
    {
     "data": {
      "text/plain": "<Figure size 640x480 with 1 Axes>",
      "image/png": "[encoded data removed]"
     },
     "metadata": {},
     "output_type": "display_data"
    }
   ],
   "source": [
    "capes = 10000\n",
    "garrisons = 14000\n",
    "splits = 16000\n",
    "\n",
    "y = np.array([capes, garrisons, splits])\n",
    "labels = [\"Capes\", \"Garrisons\", \"Splits\"]\n",
    "\n",
    "plt.pie(y, labels = labels, autopct='%1.1f%%')\n",
    "plt.savefig('../../Tests/Chapter-01-03-In-Class-Exam/assets/houses.png')\n",
    "plt.show()\n"
   ],
   "metadata": {
    "collapsed": false,
    "pycharm": {
     "name": "#%%\n"
    }
   }
  },
  {
   "cell_type": "code",
   "execution_count": null,
   "outputs": [],
   "source": [],
   "metadata": {
    "collapsed": false,
    "pycharm": {
     "name": "#%%\n"
    }
   }
  }
 ],
 "metadata": {
  "kernelspec": {
   "name": ".venv",
   "language": "python",
   "display_name": ".venv"
  },
  "language_info": {
   "codemirror_mode": {
    "name": "ipython",
    "version": 2
   },
   "file_extension": ".py",
   "mimetype": "text/x-python",
   "name": "python",
   "nbconvert_exporter": "python",
   "pygments_lexer": "ipython2",
   "version": "2.7.6"
  }
 },
 "nbformat": 4,
 "nbformat_minor": 0
}