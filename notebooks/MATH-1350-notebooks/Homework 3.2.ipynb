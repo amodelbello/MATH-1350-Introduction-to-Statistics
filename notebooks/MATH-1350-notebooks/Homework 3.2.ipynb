{
 "cells": [
  {
   "cell_type": "markdown",
   "source": [
    "## 3.2-5"
   ],
   "metadata": {
    "collapsed": false,
    "pycharm": {
     "name": "#%% md\n"
    }
   }
  },
  {
   "cell_type": "code",
   "execution_count": 5,
   "outputs": [
    {
     "name": "stdout",
     "output_type": "stream",
     "text": [
      "[7, 19, 20, 25, 55, 60, 81, 82, 89, 91, 99]\n",
      "92\n"
     ]
    }
   ],
   "source": [
    "jerseyNumbers = [int(i) for i in '89 91 55 7 20 99 25 81 19 82 60'.split()]\n",
    "jerseyNumbers.sort()\n",
    "\n",
    "print(jerseyNumbers)\n",
    "range = jerseyNumbers[len(jerseyNumbers) - 1] - jerseyNumbers[0]\n",
    "print(range)"
   ],
   "metadata": {
    "collapsed": false,
    "pycharm": {
     "name": "#%%\n"
    }
   }
  },
  {
   "cell_type": "code",
   "execution_count": 6,
   "outputs": [
    {
     "name": "stdout",
     "output_type": "stream",
     "text": [
      "sigX: 628\n",
      "sigXSquared: 47348\n",
      "n: 11\n"
     ]
    }
   ],
   "source": [
    "sigX = sum(jerseyNumbers)\n",
    "sigXSquared = sum([i * i for i in jerseyNumbers])\n",
    "n = len(jerseyNumbers)\n",
    "print(f'sigX: {sigX}')\n",
    "print(f'sigXSquared: {sigXSquared}')\n",
    "print(f'n: {n}')\n"
   ],
   "metadata": {
    "collapsed": false,
    "pycharm": {
     "name": "#%%\n"
    }
   }
  },
  {
   "cell_type": "markdown",
   "source": [
    "## 3.2-8\n"
   ],
   "metadata": {
    "collapsed": false,
    "pycharm": {
     "name": "#%% md\n"
    }
   }
  },
  {
   "cell_type": "code",
   "execution_count": 8,
   "outputs": [
    {
     "name": "stdout",
     "output_type": "stream",
     "text": [
      "[77, 104, 121, 153, 195, 212, 244, 264]\n",
      "187\n"
     ]
    }
   ],
   "source": [
    "roomPrices = [int(i) for i in '212 77 121 104 153 264 195 244'.split()]\n",
    "roomPrices.sort()\n",
    "\n",
    "print(roomPrices)\n",
    "range = roomPrices[len(roomPrices) - 1] - roomPrices[0]\n",
    "print(range)\n"
   ],
   "metadata": {
    "collapsed": false,
    "pycharm": {
     "name": "#%%\n"
    }
   }
  },
  {
   "cell_type": "code",
   "execution_count": 9,
   "outputs": [
    {
     "name": "stdout",
     "output_type": "stream",
     "text": [
      "sigX: 1370\n",
      "sigXSquared: 266996\n",
      "n: 8\n"
     ]
    }
   ],
   "source": [
    "sigX = sum(roomPrices)\n",
    "sigXSquared = sum([i * i for i in roomPrices])\n",
    "n = len(roomPrices)\n",
    "print(f'sigX: {sigX}')\n",
    "print(f'sigXSquared: {sigXSquared}')\n",
    "print(f'n: {n}')\n"
   ],
   "metadata": {
    "collapsed": false,
    "pycharm": {
     "name": "#%%\n"
    }
   }
  },
  {
   "cell_type": "code",
   "execution_count": 13,
   "outputs": [
    {
     "name": "stdout",
     "output_type": "stream",
     "text": [
      "num: 259068\n",
      "denom: 56\n",
      "standard deviation: 68.01627956389768\n",
      "variance: 4626.214285714285\n"
     ]
    }
   ],
   "source": [
    "from math import sqrt\n",
    "\n",
    "num = (n * sigXSquared) - (sigX * sigX)\n",
    "print(f'num: {num}')\n",
    "\n",
    "denom = 8 * (8 - 1)\n",
    "print(f'denom: {denom}')\n",
    "\n",
    "s = sqrt(num / denom)\n",
    "print(f'standard deviation: {s}')\n",
    "\n",
    "v = num / denom\n",
    "print(f'variance: {v}')"
   ],
   "metadata": {
    "collapsed": false,
    "pycharm": {
     "name": "#%%\n"
    }
   }
  },
  {
   "cell_type": "markdown",
   "source": [
    "## 3.2-12\n"
   ],
   "metadata": {
    "collapsed": false,
    "pycharm": {
     "name": "#%% md\n"
    }
   }
  },
  {
   "cell_type": "code",
   "execution_count": 29,
   "outputs": [
    {
     "name": "stdout",
     "output_type": "stream",
     "text": [
      "[0.51, 0.74, 0.89, 1.04, 1.18, 1.38, 1.41, 1.42, 1.45, 1.45, 1.49]\n",
      "range: 0.98\n"
     ]
    }
   ],
   "source": [
    "rads = [float(i) for i in '1.18 1.41 1.49 1.04 1.45 0.74 0.89 1.42 1.45 0.51 1.38'.split()]\n",
    "rads.sort()\n",
    "\n",
    "print(rads)\n",
    "range = rads[len(rads) - 1] - rads[0]\n",
    "print(f'range: {range}')\n"
   ],
   "metadata": {
    "collapsed": false,
    "pycharm": {
     "name": "#%%\n"
    }
   }
  },
  {
   "cell_type": "code",
   "execution_count": 30,
   "outputs": [
    {
     "name": "stdout",
     "output_type": "stream",
     "text": [
      "sigX: 12.959999999999999\n",
      "sigXSquared: 16.407799999999998\n",
      "n: 11\n"
     ]
    }
   ],
   "source": [
    "sigX = sum(rads)\n",
    "sigXSquared = sum([i * i for i in rads])\n",
    "n = len(rads)\n",
    "print(f'sigX: {sigX}')\n",
    "print(f'sigXSquared: {sigXSquared}')\n",
    "print(f'n: {n}')\n"
   ],
   "metadata": {
    "collapsed": false,
    "pycharm": {
     "name": "#%%\n"
    }
   }
  },
  {
   "cell_type": "code",
   "execution_count": 31,
   "outputs": [
    {
     "name": "stdout",
     "output_type": "stream",
     "text": [
      "num: 12.524200000000008\n",
      "denom: 110\n",
      "standard deviation: 0.33742608618238706\n",
      "variance: 0.1138563636363637\n"
     ]
    }
   ],
   "source": [
    "num = (n * sigXSquared) - (sigX * sigX)\n",
    "print(f'num: {num}')\n",
    "\n",
    "denom = 11 * (11 - 1)\n",
    "print(f'denom: {denom}')\n",
    "\n",
    "s = sqrt(num / denom)\n",
    "print(f'standard deviation: {s}')\n",
    "\n",
    "v = num / denom\n",
    "print(f'variance: {v}')\n"
   ],
   "metadata": {
    "collapsed": false,
    "pycharm": {
     "name": "#%%\n"
    }
   }
  },
  {
   "cell_type": "markdown",
   "source": [
    "## 3.2-13\n"
   ],
   "metadata": {
    "collapsed": false,
    "pycharm": {
     "name": "#%% md\n"
    }
   }
  },
  {
   "cell_type": "code",
   "execution_count": 28,
   "outputs": [
    {
     "name": "stdout",
     "output_type": "stream",
     "text": [
      "[0, 0, 0, 0, 0, 34, 34, 34, 36, 38, 41, 41, 41, 45, 47, 47, 51, 53, 54, 55]\n",
      "range: 55\n"
     ]
    }
   ],
   "source": [
    "sodas = [int(i) for i in '0 0 34 34 34 45 41 51 55 36 47 41 0 0 53 54 38 0 41 47'.split()]\n",
    "sodas.sort()\n",
    "\n",
    "print(sodas)\n",
    "range = sodas[len(sodas) - 1] - sodas[0]\n",
    "print(f'range: {range}')\n"
   ],
   "metadata": {
    "collapsed": false,
    "pycharm": {
     "name": "#%%\n"
    }
   }
  },
  {
   "cell_type": "code",
   "execution_count": 22,
   "outputs": [
    {
     "name": "stdout",
     "output_type": "stream",
     "text": [
      "sigXSquared: 29045\n",
      "sigX: 651\n",
      "n: 20\n"
     ]
    }
   ],
   "source": [
    "sigX = sum(sodas)\n",
    "sigXSquared = sum([i * i for i in sodas])\n",
    "n = len(sodas)\n",
    "print(f'sigXSquared: {sigXSquared}')\n",
    "print(f'sigX: {sigX}')\n",
    "print(f'n: {n}')\n"
   ],
   "metadata": {
    "collapsed": false,
    "pycharm": {
     "name": "#%%\n"
    }
   }
  },
  {
   "cell_type": "code",
   "execution_count": 25,
   "outputs": [
    {
     "name": "stdout",
     "output_type": "stream",
     "text": [
      "num: 157099\n",
      "denom: 380\n",
      "standard deviation: 20.33269340379261\n",
      "variance: 413.4184210526316\n"
     ]
    }
   ],
   "source": [
    "num = (n * sigXSquared) - (sigX * sigX)\n",
    "print(f'num: {num}')\n",
    "\n",
    "denom = 20 * (20 - 1)\n",
    "print(f'denom: {denom}')\n",
    "\n",
    "s = sqrt(num / denom)\n",
    "print(f'standard deviation: {s}')\n",
    "\n",
    "v = num / denom\n",
    "print(f'variance: {v}')\n"
   ],
   "metadata": {
    "collapsed": false,
    "pycharm": {
     "name": "#%%\n"
    }
   }
  },
  {
   "cell_type": "markdown",
   "source": [
    "## 3.2-21\n"
   ],
   "metadata": {
    "collapsed": false,
    "pycharm": {
     "name": "#%% md\n"
    }
   }
  },
  {
   "cell_type": "code",
   "execution_count": 35,
   "outputs": [
    {
     "name": "stdout",
     "output_type": "stream",
     "text": [
      "[96, 116, 118, 120, 122, 126, 128, 136, 156, 158]\n",
      "range: 62\n",
      "mean: 127.6\n",
      "sigXSquared: 165936\n",
      "sigX: 1276\n",
      "n: 10\n",
      "num: 31184\n",
      "denom: 90\n",
      "standard deviation: 18.614212013644007\n",
      "variance: 346.4888888888889\n"
     ]
    }
   ],
   "source": [
    "# Systolic: 118 128 158 96 156 122 116 136 126 120\n",
    "# Diastolic: 80 76 74 52 90 88 58 64 72 82\n",
    "\n",
    "systolics = [int(i) for i in '118 128 158 96 156 122 116 136 126 120'.split()]\n",
    "systolics.sort()\n",
    "\n",
    "print(systolics)\n",
    "range = systolics[len(systolics) - 1] - systolics[0]\n",
    "print(f'range: {range}')\n",
    "\n",
    "mean = sum(systolics) / len(systolics)\n",
    "print(f'mean: {mean}')\n",
    "sigX = sum(systolics)\n",
    "sigXSquared = sum([i * i for i in systolics])\n",
    "n = len(systolics)\n",
    "print(f'sigXSquared: {sigXSquared}')\n",
    "print(f'sigX: {sigX}')\n",
    "print(f'n: {n}')\n",
    "\n",
    "num = (n * sigXSquared) - (sigX * sigX)\n",
    "print(f'num: {num}')\n",
    "\n",
    "denom = 10 * (10 - 1)\n",
    "print(f'denom: {denom}')\n",
    "\n",
    "s = sqrt(num / denom)\n",
    "print(f'standard deviation: {s}')\n",
    "\n",
    "v = num / denom\n",
    "print(f'variance: {v}')\n"
   ],
   "metadata": {
    "collapsed": false,
    "pycharm": {
     "name": "#%%\n"
    }
   }
  },
  {
   "cell_type": "code",
   "execution_count": 37,
   "outputs": [
    {
     "name": "stdout",
     "output_type": "stream",
     "text": [
      "[52, 58, 64, 72, 74, 76, 80, 82, 88, 90]\n",
      "range: 38\n",
      "mean: 73.6\n",
      "sigXSquared: 55568\n",
      "sigX: 736\n",
      "n: 10\n",
      "num: 13984\n",
      "denom: 90\n",
      "standard deviation: 12.465062285354925\n",
      "variance: 155.37777777777777\n"
     ]
    }
   ],
   "source": [
    "# Systolic: 118 128 158 96 156 122 116 136 126 120\n",
    "# Diastolic: 80 76 74 52 90 88 58 64 72 82\n",
    "\n",
    "diastolics = [int(i) for i in '80 76 74 52 90 88 58 64 72 82'.split()]\n",
    "diastolics.sort()\n",
    "\n",
    "print(diastolics)\n",
    "range = diastolics[len(diastolics) - 1] - diastolics[0]\n",
    "print(f'range: {range}')\n",
    "\n",
    "mean = sum(diastolics) / len(diastolics)\n",
    "print(f'mean: {mean}')\n",
    "\n",
    "sigX = sum(diastolics)\n",
    "sigXSquared = sum([i * i for i in diastolics])\n",
    "n = len(diastolics)\n",
    "print(f'sigXSquared: {sigXSquared}')\n",
    "print(f'sigX: {sigX}')\n",
    "print(f'n: {n}')\n",
    "\n",
    "num = (n * sigXSquared) - (sigX * sigX)\n",
    "print(f'num: {num}')\n",
    "\n",
    "denom = 10 * (10 - 1)\n",
    "print(f'denom: {denom}')\n",
    "\n",
    "s = sqrt(num / denom)\n",
    "print(f'standard deviation: {s}')\n",
    "\n",
    "v = num / denom\n",
    "print(f'variance: {v}')\n"
   ],
   "metadata": {
    "collapsed": false,
    "pycharm": {
     "name": "#%%\n"
    }
   }
  },
  {
   "cell_type": "markdown",
   "source": [
    "## 3.2-27\n"
   ],
   "metadata": {
    "collapsed": false,
    "pycharm": {
     "name": "#%% md\n"
    }
   }
  },
  {
   "cell_type": "code",
   "execution_count": 40,
   "outputs": [
    {
     "name": "stdout",
     "output_type": "stream",
     "text": [
      "[96.5, 96.9, 97.0, 97.0, 97.0, 97.1, 97.1, 97.1, 97.2, 97.3, 97.3, 97.3, 97.4, 97.4, 97.4, 97.5, 97.5, 97.6, 97.6, 97.6, 97.6, 97.6, 97.6, 97.7, 97.8, 97.8, 97.8, 97.8, 97.8, 97.9, 97.9, 97.9, 98.0, 98.0, 98.0, 98.0, 98.0, 98.0, 98.0, 98.0, 98.0, 98.0, 98.0, 98.0, 98.0, 98.2, 98.2, 98.2, 98.2, 98.2, 98.3, 98.3, 98.4, 98.4, 98.4, 98.4, 98.4, 98.4, 98.4, 98.4, 98.4, 98.4, 98.4, 98.4, 98.5, 98.5, 98.5, 98.5, 98.6, 98.6, 98.6, 98.6, 98.6, 98.6, 98.6, 98.6, 98.6, 98.6, 98.6, 98.6, 98.6, 98.6, 98.6, 98.7, 98.7, 98.7, 98.7, 98.7, 98.7, 98.8, 98.8, 98.8, 98.8, 98.8, 98.8, 98.8, 98.9, 98.9, 99.0, 99.0, 99.1, 99.2, 99.4, 99.4, 99.5, 99.6]\n",
      "range: 3.0999999999999943\n",
      "mean: 98.2\n",
      "sigXSquared: 1022224.1799999992\n",
      "sigX: 10409.2\n",
      "n: 106\n",
      "num: 4318.439999908209\n",
      "denom: 11130\n",
      "standard deviation: 0.6228964600892775\n",
      "variance: 0.38799999999175283\n"
     ]
    }
   ],
   "source": [
    "temps = [float(i) for i in '98.6 98.6 98 98 99 98.4 98.4 98.4 98.4 98.6 98.6 98.8 98.6 97 97 98.8 97.6 97.7 98.8 98 98 98.3 98.5 97.3 98.7 97.4 98.9 98.6 99.5 97.5 97.3 97.6 98.2 99.6 98.7 99.4 98.2 98 98.6 98.6 97.2 98.4 98.6 98.2 98 97.8 98 98.4 98.6 98.6 97.8 99 96.5 97.6 98 96.9 97.6 97.1 97.9 98.4 97.3 98 97.5 97.6 98.2 98.5 98.8 98.7 97.8 98 97.1 97.4 99.4 98.4 98.6 98.4 98.5 98.6 98.3 98.7 98.8 99.1 98.6 97.9 98.8 98 98.7 98.5 98.9 98.4 98.6 97.1 97.9 98.8 98.7 97.6 98.2 99.2 97.8 98 98.4 97.8 98.4 97.4 98 97'.split()]\n",
    "\n",
    "temps.sort()\n",
    "\n",
    "print(temps)\n",
    "range = temps[len(temps) - 1] - temps[0]\n",
    "print(f'range: {range}')\n",
    "\n",
    "mean = sum(temps) / len(temps)\n",
    "print(f'mean: {mean}')\n",
    "\n",
    "sigX = sum(temps)\n",
    "sigXSquared = sum([i * i for i in temps])\n",
    "n = len(temps)\n",
    "print(f'sigXSquared: {sigXSquared}')\n",
    "print(f'sigX: {sigX}')\n",
    "print(f'n: {n}')\n",
    "\n",
    "num = (n * sigXSquared) - (sigX * sigX)\n",
    "print(f'num: {num}')\n",
    "\n",
    "denom = n * (n - 1)\n",
    "print(f'denom: {denom}')\n",
    "\n",
    "s = sqrt(num / denom)\n",
    "print(f'standard deviation: {s}')\n",
    "\n",
    "v = num / denom\n",
    "print(f'variance: {v}')\n"
   ],
   "metadata": {
    "collapsed": false,
    "pycharm": {
     "name": "#%%\n"
    }
   }
  },
  {
   "cell_type": "code",
   "execution_count": 54,
   "outputs": [
    {
     "name": "stdout",
     "output_type": "stream",
     "text": [
      "num_samples: 153\n",
      "sum_of_the_squares: 8388188.25\n",
      "sum_of_the_products: 34273.5\n",
      "left_sum: 1283392802.25\n",
      "right_sum: 1174672802.25\n",
      "numerator: 108720000.0\n",
      "denominator: 23256\n",
      "s: 68.37340565321574\n"
     ]
    }
   ],
   "source": [
    "# Blood Platelet\n",
    "# Count of Males Frequency\n",
    "# 0–99   1\n",
    "# 100–199 51\n",
    "# 200–299 90\n",
    "# 300–399 10\n",
    "# 400–499  0\n",
    "# 500–599  0\n",
    "# 600–699  1\n",
    "\n",
    "midpoints = [49.5, 149.5, 249.5, 349.5, 449.5, 549.5, 649.5]\n",
    "\n",
    "data = [\n",
    "    { 'midpoint': 49.5, 'frequency': 1},\n",
    "    { 'midpoint': 149.5, 'frequency': 51},\n",
    "    { 'midpoint': 249.5, 'frequency': 90},\n",
    "    { 'midpoint': 349.5, 'frequency': 10},\n",
    "    { 'midpoint': 449.5, 'frequency': 0},\n",
    "    { 'midpoint': 549.5, 'frequency': 0},\n",
    "    { 'midpoint': 649.5, 'frequency': 1},\n",
    "]\n",
    "n = len(data)\n",
    "\n",
    "sum_of_the_squares = 0\n",
    "sum_of_the_products = 0\n",
    "num_samples = 0\n",
    "for i in data:\n",
    "    sum_of_the_squares += i['frequency'] * (i['midpoint'] * i['midpoint'])\n",
    "    sum_of_the_products += i['frequency'] * i['midpoint']\n",
    "    num_samples += i['frequency']\n",
    "\n",
    "print(f'num_samples: {num_samples}')\n",
    "print(f'sum_of_the_squares: {sum_of_the_squares}')\n",
    "print(f'sum_of_the_products: {sum_of_the_products}')\n",
    "\n",
    "left_sum = sum_of_the_squares * num_samples\n",
    "right_sum = sum_of_the_products * sum_of_the_products\n",
    "print(f'left_sum: {left_sum}')\n",
    "print(f'right_sum: {right_sum}')\n",
    "\n",
    "numerator = left_sum - right_sum\n",
    "print(f'numerator: {numerator}')\n",
    "denominator = num_samples * (num_samples - 1)\n",
    "print(f'denominator: {denominator}')\n",
    "\n",
    "s = sqrt((left_sum - right_sum) / denominator)\n",
    "print(f's: {s}')"
   ],
   "metadata": {
    "collapsed": false,
    "pycharm": {
     "name": "#%%\n"
    }
   }
  },
  {
   "cell_type": "code",
   "execution_count": 55,
   "outputs": [
    {
     "name": "stdout",
     "output_type": "stream",
     "text": [
      "num_samples: 147\n",
      "sum_of_the_squares: 10309886.75\n",
      "sum_of_the_products: 37576.5\n",
      "left_sum: 1515553352.25\n",
      "right_sum: 1411993352.25\n",
      "numerator: 103560000.0\n",
      "denominator: 21462\n",
      "s: 69.46418195576291\n"
     ]
    }
   ],
   "source": [
    "data = [\n",
    "    { 'midpoint': 149.5, 'frequency': 25},\n",
    "    { 'midpoint': 249.5, 'frequency': 92},\n",
    "    { 'midpoint': 349.5, 'frequency': 28},\n",
    "    { 'midpoint': 449.5, 'frequency': 0},\n",
    "    { 'midpoint': 549.5, 'frequency': 2},\n",
    "]\n",
    "n = len(data)\n",
    "\n",
    "sum_of_the_squares = 0\n",
    "sum_of_the_products = 0\n",
    "num_samples = 0\n",
    "for i in data:\n",
    "    sum_of_the_squares += i['frequency'] * (i['midpoint'] * i['midpoint'])\n",
    "    sum_of_the_products += i['frequency'] * i['midpoint']\n",
    "    num_samples += i['frequency']\n",
    "\n",
    "print(f'num_samples: {num_samples}')\n",
    "print(f'sum_of_the_squares: {sum_of_the_squares}')\n",
    "print(f'sum_of_the_products: {sum_of_the_products}')\n",
    "\n",
    "left_sum = sum_of_the_squares * num_samples\n",
    "right_sum = sum_of_the_products * sum_of_the_products\n",
    "print(f'left_sum: {left_sum}')\n",
    "print(f'right_sum: {right_sum}')\n",
    "\n",
    "numerator = left_sum - right_sum\n",
    "print(f'numerator: {numerator}')\n",
    "denominator = num_samples * (num_samples - 1)\n",
    "print(f'denominator: {denominator}')\n",
    "\n",
    "s = sqrt((left_sum - right_sum) / denominator)\n",
    "print(f's: {s}')\n"
   ],
   "metadata": {
    "collapsed": false,
    "pycharm": {
     "name": "#%%\n"
    }
   }
  },
  {
   "cell_type": "code",
   "execution_count": null,
   "outputs": [],
   "source": [],
   "metadata": {
    "collapsed": false,
    "pycharm": {
     "name": "#%%\n"
    }
   }
  }
 ],
 "metadata": {
  "kernelspec": {
   "name": ".venv",
   "language": "python",
   "display_name": ".venv"
  },
  "language_info": {
   "codemirror_mode": {
    "name": "ipython",
    "version": 2
   },
   "file_extension": ".py",
   "mimetype": "text/x-python",
   "name": "python",
   "nbconvert_exporter": "python",
   "pygments_lexer": "ipython2",
   "version": "2.7.6"
  }
 },
 "nbformat": 4,
 "nbformat_minor": 0
}